{
 "cells": [
  {
   "cell_type": "code",
   "execution_count": 1,
   "id": "673acde8-c5ee-4066-af2b-79a8fa96f14a",
   "metadata": {},
   "outputs": [],
   "source": [
    "import pandas as pd\n",
    "import seaborn as sns\n",
    "import matplotlib.pyplot as plt"
   ]
  },
  {
   "cell_type": "code",
   "execution_count": 2,
   "id": "2639ac81-8112-4745-873a-814d81152db6",
   "metadata": {},
   "outputs": [
    {
     "data": {
      "text/html": [
       "<div>\n",
       "<style scoped>\n",
       "    .dataframe tbody tr th:only-of-type {\n",
       "        vertical-align: middle;\n",
       "    }\n",
       "\n",
       "    .dataframe tbody tr th {\n",
       "        vertical-align: top;\n",
       "    }\n",
       "\n",
       "    .dataframe thead th {\n",
       "        text-align: right;\n",
       "    }\n",
       "</style>\n",
       "<table border=\"1\" class=\"dataframe\">\n",
       "  <thead>\n",
       "    <tr style=\"text-align: right;\">\n",
       "      <th></th>\n",
       "      <th>SN</th>\n",
       "      <th>Amount</th>\n",
       "      <th>Month</th>\n",
       "      <th>Monthofpayment</th>\n",
       "      <th>Date</th>\n",
       "      <th>Modeofpayment</th>\n",
       "      <th>PaymentOn</th>\n",
       "      <th>Remarks</th>\n",
       "      <th>Amount1</th>\n",
       "      <th>Amount2</th>\n",
       "    </tr>\n",
       "  </thead>\n",
       "  <tbody>\n",
       "    <tr>\n",
       "      <th>0</th>\n",
       "      <td>1</td>\n",
       "      <td>10000.0</td>\n",
       "      <td>Falgun</td>\n",
       "      <td>Chaitra</td>\n",
       "      <td>2024-04-08</td>\n",
       "      <td>Esewa</td>\n",
       "      <td>Esewa - 9851196678</td>\n",
       "      <td>NaN</td>\n",
       "      <td>10000</td>\n",
       "      <td>10000.0</td>\n",
       "    </tr>\n",
       "    <tr>\n",
       "      <th>1</th>\n",
       "      <td>2</td>\n",
       "      <td>10000.0</td>\n",
       "      <td>Chaitra</td>\n",
       "      <td>NaN</td>\n",
       "      <td>2024-04-08</td>\n",
       "      <td>NaN</td>\n",
       "      <td>Esewa - 9851196678</td>\n",
       "      <td>NaN</td>\n",
       "      <td>500</td>\n",
       "      <td>10000.0</td>\n",
       "    </tr>\n",
       "    <tr>\n",
       "      <th>2</th>\n",
       "      <td>3</td>\n",
       "      <td>NaN</td>\n",
       "      <td>Bhaisakh</td>\n",
       "      <td>Jestha</td>\n",
       "      <td>NaT</td>\n",
       "      <td>Nic Asia</td>\n",
       "      <td>NaN</td>\n",
       "      <td>NaN</td>\n",
       "      <td>14000</td>\n",
       "      <td>NaN</td>\n",
       "    </tr>\n",
       "    <tr>\n",
       "      <th>3</th>\n",
       "      <td>4</td>\n",
       "      <td>5000.0</td>\n",
       "      <td>NaN</td>\n",
       "      <td>Shrawan</td>\n",
       "      <td>2024-07-22</td>\n",
       "      <td>NaN</td>\n",
       "      <td>Esewa - 9851196678</td>\n",
       "      <td>NaN</td>\n",
       "      <td>5000</td>\n",
       "      <td>5000.0</td>\n",
       "    </tr>\n",
       "  </tbody>\n",
       "</table>\n",
       "</div>"
      ],
      "text/plain": [
       "   SN   Amount     Month Monthofpayment       Date Modeofpayment  \\\n",
       "0   1  10000.0    Falgun        Chaitra 2024-04-08         Esewa   \n",
       "1   2  10000.0   Chaitra            NaN 2024-04-08           NaN   \n",
       "2   3      NaN  Bhaisakh         Jestha        NaT      Nic Asia   \n",
       "3   4   5000.0       NaN        Shrawan 2024-07-22           NaN   \n",
       "\n",
       "            PaymentOn Remarks  Amount1  Amount2  \n",
       "0  Esewa - 9851196678     NaN    10000  10000.0  \n",
       "1  Esewa - 9851196678     NaN      500  10000.0  \n",
       "2                 NaN     NaN    14000      NaN  \n",
       "3  Esewa - 9851196678     NaN     5000   5000.0  "
      ]
     },
     "execution_count": 2,
     "metadata": {},
     "output_type": "execute_result"
    }
   ],
   "source": [
    "dataset=pd.read_excel(\"Data2.xlsx\")\n",
    "dataset.head(4)"
   ]
  },
  {
   "cell_type": "code",
   "execution_count": 3,
   "id": "8d984c38-66ff-44a2-8356-6c6abc7b4f9a",
   "metadata": {},
   "outputs": [
    {
     "data": {
      "text/html": [
       "<div>\n",
       "<style scoped>\n",
       "    .dataframe tbody tr th:only-of-type {\n",
       "        vertical-align: middle;\n",
       "    }\n",
       "\n",
       "    .dataframe tbody tr th {\n",
       "        vertical-align: top;\n",
       "    }\n",
       "\n",
       "    .dataframe thead th {\n",
       "        text-align: right;\n",
       "    }\n",
       "</style>\n",
       "<table border=\"1\" class=\"dataframe\">\n",
       "  <thead>\n",
       "    <tr style=\"text-align: right;\">\n",
       "      <th></th>\n",
       "      <th>SN</th>\n",
       "      <th>Amount</th>\n",
       "      <th>Date</th>\n",
       "      <th>Amount1</th>\n",
       "      <th>Amount2</th>\n",
       "    </tr>\n",
       "  </thead>\n",
       "  <tbody>\n",
       "    <tr>\n",
       "      <th>count</th>\n",
       "      <td>117.000000</td>\n",
       "      <td>97.000000</td>\n",
       "      <td>91</td>\n",
       "      <td>117.000000</td>\n",
       "      <td>79.00000</td>\n",
       "    </tr>\n",
       "    <tr>\n",
       "      <th>mean</th>\n",
       "      <td>59.000000</td>\n",
       "      <td>11494.845361</td>\n",
       "      <td>2030-01-18 02:22:25.054945024</td>\n",
       "      <td>13418.384615</td>\n",
       "      <td>12031.64557</td>\n",
       "    </tr>\n",
       "    <tr>\n",
       "      <th>min</th>\n",
       "      <td>1.000000</td>\n",
       "      <td>500.000000</td>\n",
       "      <td>2024-04-08 00:00:00</td>\n",
       "      <td>500.000000</td>\n",
       "      <td>500.00000</td>\n",
       "    </tr>\n",
       "    <tr>\n",
       "      <th>25%</th>\n",
       "      <td>30.000000</td>\n",
       "      <td>10000.000000</td>\n",
       "      <td>2024-05-07 00:00:00</td>\n",
       "      <td>10000.000000</td>\n",
       "      <td>10000.00000</td>\n",
       "    </tr>\n",
       "    <tr>\n",
       "      <th>50%</th>\n",
       "      <td>59.000000</td>\n",
       "      <td>12000.000000</td>\n",
       "      <td>2024-06-26 00:00:00</td>\n",
       "      <td>12000.000000</td>\n",
       "      <td>12000.00000</td>\n",
       "    </tr>\n",
       "    <tr>\n",
       "      <th>75%</th>\n",
       "      <td>88.000000</td>\n",
       "      <td>12000.000000</td>\n",
       "      <td>2024-08-23 00:00:00</td>\n",
       "      <td>12000.000000</td>\n",
       "      <td>12000.00000</td>\n",
       "    </tr>\n",
       "    <tr>\n",
       "      <th>max</th>\n",
       "      <td>117.000000</td>\n",
       "      <td>50000.000000</td>\n",
       "      <td>2080-11-07 00:00:00</td>\n",
       "      <td>80000.000000</td>\n",
       "      <td>80000.00000</td>\n",
       "    </tr>\n",
       "    <tr>\n",
       "      <th>std</th>\n",
       "      <td>33.919021</td>\n",
       "      <td>4492.757392</td>\n",
       "      <td>NaN</td>\n",
       "      <td>11127.075241</td>\n",
       "      <td>9914.16423</td>\n",
       "    </tr>\n",
       "  </tbody>\n",
       "</table>\n",
       "</div>"
      ],
      "text/plain": [
       "               SN        Amount                           Date       Amount1  \\\n",
       "count  117.000000     97.000000                             91    117.000000   \n",
       "mean    59.000000  11494.845361  2030-01-18 02:22:25.054945024  13418.384615   \n",
       "min      1.000000    500.000000            2024-04-08 00:00:00    500.000000   \n",
       "25%     30.000000  10000.000000            2024-05-07 00:00:00  10000.000000   \n",
       "50%     59.000000  12000.000000            2024-06-26 00:00:00  12000.000000   \n",
       "75%     88.000000  12000.000000            2024-08-23 00:00:00  12000.000000   \n",
       "max    117.000000  50000.000000            2080-11-07 00:00:00  80000.000000   \n",
       "std     33.919021   4492.757392                            NaN  11127.075241   \n",
       "\n",
       "           Amount2  \n",
       "count     79.00000  \n",
       "mean   12031.64557  \n",
       "min      500.00000  \n",
       "25%    10000.00000  \n",
       "50%    12000.00000  \n",
       "75%    12000.00000  \n",
       "max    80000.00000  \n",
       "std     9914.16423  "
      ]
     },
     "execution_count": 3,
     "metadata": {},
     "output_type": "execute_result"
    }
   ],
   "source": [
    "dataset.describe()"
   ]
  },
  {
   "cell_type": "code",
   "execution_count": 4,
   "id": "97df88be-6dad-4f83-a938-dc51396280dd",
   "metadata": {},
   "outputs": [
    {
     "data": {
      "text/plain": [
       "SN                 0\n",
       "Amount            20\n",
       "Month             23\n",
       "Monthofpayment    22\n",
       "Date              26\n",
       "Modeofpayment     23\n",
       "PaymentOn         29\n",
       "Remarks           53\n",
       "Amount1            0\n",
       "Amount2           38\n",
       "dtype: int64"
      ]
     },
     "execution_count": 4,
     "metadata": {},
     "output_type": "execute_result"
    }
   ],
   "source": [
    "dataset.isnull().sum()"
   ]
  },
  {
   "cell_type": "code",
   "execution_count": 5,
   "id": "8c76dff2-91f2-418d-bd54-1d19db2c5f2b",
   "metadata": {},
   "outputs": [
    {
     "data": {
      "text/html": [
       "<div>\n",
       "<style scoped>\n",
       "    .dataframe tbody tr th:only-of-type {\n",
       "        vertical-align: middle;\n",
       "    }\n",
       "\n",
       "    .dataframe tbody tr th {\n",
       "        vertical-align: top;\n",
       "    }\n",
       "\n",
       "    .dataframe thead th {\n",
       "        text-align: right;\n",
       "    }\n",
       "</style>\n",
       "<table border=\"1\" class=\"dataframe\">\n",
       "  <thead>\n",
       "    <tr style=\"text-align: right;\">\n",
       "      <th></th>\n",
       "      <th>SN</th>\n",
       "      <th>Amount</th>\n",
       "      <th>Date</th>\n",
       "      <th>Amount1</th>\n",
       "      <th>Amount2</th>\n",
       "    </tr>\n",
       "  </thead>\n",
       "  <tbody>\n",
       "    <tr>\n",
       "      <th>count</th>\n",
       "      <td>117.000000</td>\n",
       "      <td>97.000000</td>\n",
       "      <td>91</td>\n",
       "      <td>117.000000</td>\n",
       "      <td>79.00000</td>\n",
       "    </tr>\n",
       "    <tr>\n",
       "      <th>mean</th>\n",
       "      <td>59.000000</td>\n",
       "      <td>11494.845361</td>\n",
       "      <td>2030-01-18 02:22:25.054945024</td>\n",
       "      <td>13418.384615</td>\n",
       "      <td>12031.64557</td>\n",
       "    </tr>\n",
       "    <tr>\n",
       "      <th>min</th>\n",
       "      <td>1.000000</td>\n",
       "      <td>500.000000</td>\n",
       "      <td>2024-04-08 00:00:00</td>\n",
       "      <td>500.000000</td>\n",
       "      <td>500.00000</td>\n",
       "    </tr>\n",
       "    <tr>\n",
       "      <th>25%</th>\n",
       "      <td>30.000000</td>\n",
       "      <td>10000.000000</td>\n",
       "      <td>2024-05-07 00:00:00</td>\n",
       "      <td>10000.000000</td>\n",
       "      <td>10000.00000</td>\n",
       "    </tr>\n",
       "    <tr>\n",
       "      <th>50%</th>\n",
       "      <td>59.000000</td>\n",
       "      <td>12000.000000</td>\n",
       "      <td>2024-06-26 00:00:00</td>\n",
       "      <td>12000.000000</td>\n",
       "      <td>12000.00000</td>\n",
       "    </tr>\n",
       "    <tr>\n",
       "      <th>75%</th>\n",
       "      <td>88.000000</td>\n",
       "      <td>12000.000000</td>\n",
       "      <td>2024-08-23 00:00:00</td>\n",
       "      <td>12000.000000</td>\n",
       "      <td>12000.00000</td>\n",
       "    </tr>\n",
       "    <tr>\n",
       "      <th>max</th>\n",
       "      <td>117.000000</td>\n",
       "      <td>50000.000000</td>\n",
       "      <td>2080-11-07 00:00:00</td>\n",
       "      <td>80000.000000</td>\n",
       "      <td>80000.00000</td>\n",
       "    </tr>\n",
       "    <tr>\n",
       "      <th>std</th>\n",
       "      <td>33.919021</td>\n",
       "      <td>4492.757392</td>\n",
       "      <td>NaN</td>\n",
       "      <td>11127.075241</td>\n",
       "      <td>9914.16423</td>\n",
       "    </tr>\n",
       "  </tbody>\n",
       "</table>\n",
       "</div>"
      ],
      "text/plain": [
       "               SN        Amount                           Date       Amount1  \\\n",
       "count  117.000000     97.000000                             91    117.000000   \n",
       "mean    59.000000  11494.845361  2030-01-18 02:22:25.054945024  13418.384615   \n",
       "min      1.000000    500.000000            2024-04-08 00:00:00    500.000000   \n",
       "25%     30.000000  10000.000000            2024-05-07 00:00:00  10000.000000   \n",
       "50%     59.000000  12000.000000            2024-06-26 00:00:00  12000.000000   \n",
       "75%     88.000000  12000.000000            2024-08-23 00:00:00  12000.000000   \n",
       "max    117.000000  50000.000000            2080-11-07 00:00:00  80000.000000   \n",
       "std     33.919021   4492.757392                            NaN  11127.075241   \n",
       "\n",
       "           Amount2  \n",
       "count     79.00000  \n",
       "mean   12031.64557  \n",
       "min      500.00000  \n",
       "25%    10000.00000  \n",
       "50%    12000.00000  \n",
       "75%    12000.00000  \n",
       "max    80000.00000  \n",
       "std     9914.16423  "
      ]
     },
     "execution_count": 5,
     "metadata": {},
     "output_type": "execute_result"
    }
   ],
   "source": [
    "dataset.describe()"
   ]
  },
  {
   "cell_type": "code",
   "execution_count": 9,
   "id": "6b12862f-b7dc-44c4-93c1-c18ff48781e2",
   "metadata": {},
   "outputs": [
    {
     "data": {
      "image/png": "[encoded data removed]",
      "text/plain": [
       "<Figure size 640x480 with 1 Axes>"
      ]
     },
     "metadata": {},
     "output_type": "display_data"
    }
   ],
   "source": [
    "sns.boxplot(x = \"Amount1\",data=dataset)\n",
    "plt.show()"
   ]
  },
  {
   "cell_type": "code",
   "execution_count": 12,
   "id": "231947db-7df2-4bfa-b0f7-5df6020bd760",
   "metadata": {},
   "outputs": [],
   "source": [
    "q1 = dataset[\"Amount1\"].quantile(0.25)\n",
    "q3 = dataset[\"Amount2\"].quantile(0.75)"
   ]
  },
  {
   "cell_type": "code",
   "execution_count": 13,
   "id": "961fb3aa-8b72-4f64-87ee-8f035024560d",
   "metadata": {},
   "outputs": [
    {
     "data": {
      "text/plain": [
       "np.float64(10000.0)"
      ]
     },
     "execution_count": 13,
     "metadata": {},
     "output_type": "execute_result"
    }
   ],
   "source": [
    "q1"
   ]
  },
  {
   "cell_type": "code",
   "execution_count": 14,
   "id": "38ce0879-1a14-4ca9-9214-5a06700a5043",
   "metadata": {},
   "outputs": [
    {
     "data": {
      "text/plain": [
       "np.float64(12000.0)"
      ]
     },
     "execution_count": 14,
     "metadata": {},
     "output_type": "execute_result"
    }
   ],
   "source": [
    "q3"
   ]
  },
  {
   "cell_type": "code",
   "execution_count": 16,
   "id": "e42f41fd-05f7-43b5-b73f-8b5a4dec8714",
   "metadata": {},
   "outputs": [
    {
     "data": {
      "text/plain": [
       "np.float64(2000.0)"
      ]
     },
     "execution_count": 16,
     "metadata": {},
     "output_type": "execute_result"
    }
   ],
   "source": [
    "IQR = q3-q1\n",
    "IQR"
   ]
  },
  {
   "cell_type": "code",
   "execution_count": 17,
   "id": "3c1d8357-e542-4b80-8e67-e288d934180f",
   "metadata": {},
   "outputs": [],
   "source": [
    "min_range = q1-(1.5*IQR)\n",
    "max_range = q3+(1.5*IQR)"
   ]
  },
  {
   "cell_type": "code",
   "execution_count": 18,
   "id": "01027c8d-1c4c-4c5f-8ab8-c06e3b7ece46",
   "metadata": {},
   "outputs": [
    {
     "data": {
      "text/plain": [
       "(np.float64(7000.0), np.float64(15000.0))"
      ]
     },
     "execution_count": 18,
     "metadata": {},
     "output_type": "execute_result"
    }
   ],
   "source": [
    "min_range, max_range"
   ]
  },
  {
   "cell_type": "code",
   "execution_count": 28,
   "id": "b6069770-638b-4b39-a48c-2c70dd30dde2",
   "metadata": {},
   "outputs": [],
   "source": [
    "new_dataset=dataset[dataset[\"Amount1\"]<=max_range]"
   ]
  },
  {
   "cell_type": "code",
   "execution_count": 20,
   "id": "5e53aa82-33db-4df2-946d-3ac8cc593e2f",
   "metadata": {},
   "outputs": [
    {
     "data": {
      "text/plain": [
       "(112, 10)"
      ]
     },
     "execution_count": 20,
     "metadata": {},
     "output_type": "execute_result"
    }
   ],
   "source": [
    "new_dataset.shape"
   ]
  },
  {
   "cell_type": "code",
   "execution_count": 21,
   "id": "5880aeb7-4c47-408b-a635-cf35ec6c8926",
   "metadata": {},
   "outputs": [
    {
     "data": {
      "image/png": "[encoded data removed]",
      "text/plain": [
       "<Figure size 640x480 with 1 Axes>"
      ]
     },
     "metadata": {},
     "output_type": "display_data"
    }
   ],
   "source": [
    "sns.boxplot(x = \"Amount1\",data=new_dataset)\n",
    "plt.show()"
   ]
  },
  {
   "cell_type": "code",
   "execution_count": 30,
   "id": "50d9f1ec-bff9-413a-bae8-98f44de86679",
   "metadata": {},
   "outputs": [
    {
     "data": {
      "text/plain": [
       "<seaborn.axisgrid.FacetGrid at 0x20f8b6f51c0>"
      ]
     },
     "execution_count": 30,
     "metadata": {},
     "output_type": "execute_result"
    },
    {
     "data": {
      "image/png": "[encoded data removed]",
      "text/plain": [
       "<Figure size 500x500 with 1 Axes>"
      ]
     },
     "metadata": {},
     "output_type": "display_data"
    }
   ],
   "source": [
    "sns.displot(dataset[\"Amount1\"])"
   ]
  },
  {
   "cell_type": "code",
   "execution_count": 33,
   "id": "03fe2ac5-d088-40f0-85cd-fa26149ff416",
   "metadata": {},
   "outputs": [],
   "source": [
    "min_rang=dataset[\"Amount1\"].mean() - (3*dataset[\"Amount1\"].std())\n",
    "max_rang=dataset[\"Amount1\"].mean() + (3*dataset[\"Amount1\"].std())"
   ]
  },
  {
   "cell_type": "code",
   "execution_count": 34,
   "id": "9043a4be-fc00-4ca7-8017-9a5518a01015",
   "metadata": {},
   "outputs": [
    {
     "data": {
      "text/plain": [
       "(np.float64(-19962.841108896966), np.float64(46799.6103396662))"
      ]
     },
     "execution_count": 34,
     "metadata": {},
     "output_type": "execute_result"
    }
   ],
   "source": [
    "min_rang, max_rang"
   ]
  },
  {
   "cell_type": "code",
   "execution_count": 35,
   "id": "b931788e-5af3-465a-8262-aae0c78c197a",
   "metadata": {},
   "outputs": [
    {
     "data": {
      "text/plain": [
       "0     -0.307213\n",
       "1     -1.160987\n",
       "2      0.052270\n",
       "3     -0.756568\n",
       "4     -0.037601\n",
       "         ...   \n",
       "112   -0.307213\n",
       "113   -0.194605\n",
       "114   -0.307213\n",
       "115   -0.077144\n",
       "116   -0.307213\n",
       "Name: Amount1, Length: 117, dtype: float64"
      ]
     },
     "execution_count": 35,
     "metadata": {},
     "output_type": "execute_result"
    }
   ],
   "source": [
    "z_score=(dataset[\"Amount1\"]-(dataset[\"Amount1\"].mean()))/(dataset[\"Amount1\"].std())\n",
    "z_score"
   ]
  },
  {
   "cell_type": "code",
   "execution_count": 36,
   "id": "cdfaae8f-84db-4551-be13-640552e2e88f",
   "metadata": {},
   "outputs": [
    {
     "data": {
      "text/plain": [
       "0      False\n",
       "1      False\n",
       "2      False\n",
       "3      False\n",
       "4      False\n",
       "       ...  \n",
       "112    False\n",
       "113    False\n",
       "114    False\n",
       "115    False\n",
       "116    False\n",
       "Name: Amount1, Length: 117, dtype: bool"
      ]
     },
     "execution_count": 36,
     "metadata": {},
     "output_type": "execute_result"
    }
   ],
   "source": [
    "z_score>3"
   ]
  },
  {
   "cell_type": "code",
   "execution_count": 37,
   "id": "23d8dcd6-98fb-4f7c-b3c3-1f3e156b34db",
   "metadata": {},
   "outputs": [],
   "source": [
    "dataset[\"z_score\"] = z_score"
   ]
  },
  {
   "cell_type": "code",
   "execution_count": 38,
   "id": "b0c0ec51-2272-41d6-8caa-ed6a8de8fa56",
   "metadata": {},
   "outputs": [
    {
     "data": {
      "text/html": [
       "<div>\n",
       "<style scoped>\n",
       "    .dataframe tbody tr th:only-of-type {\n",
       "        vertical-align: middle;\n",
       "    }\n",
       "\n",
       "    .dataframe tbody tr th {\n",
       "        vertical-align: top;\n",
       "    }\n",
       "\n",
       "    .dataframe thead th {\n",
       "        text-align: right;\n",
       "    }\n",
       "</style>\n",
       "<table border=\"1\" class=\"dataframe\">\n",
       "  <thead>\n",
       "    <tr style=\"text-align: right;\">\n",
       "      <th></th>\n",
       "      <th>SN</th>\n",
       "      <th>Amount</th>\n",
       "      <th>Month</th>\n",
       "      <th>Monthofpayment</th>\n",
       "      <th>Date</th>\n",
       "      <th>Modeofpayment</th>\n",
       "      <th>PaymentOn</th>\n",
       "      <th>Remarks</th>\n",
       "      <th>Amount1</th>\n",
       "      <th>Amount2</th>\n",
       "      <th>z_score</th>\n",
       "    </tr>\n",
       "  </thead>\n",
       "  <tbody>\n",
       "    <tr>\n",
       "      <th>0</th>\n",
       "      <td>1</td>\n",
       "      <td>10000.0</td>\n",
       "      <td>Falgun</td>\n",
       "      <td>Chaitra</td>\n",
       "      <td>2024-04-08</td>\n",
       "      <td>Esewa</td>\n",
       "      <td>Esewa - 9851196678</td>\n",
       "      <td>NaN</td>\n",
       "      <td>10000</td>\n",
       "      <td>10000.0</td>\n",
       "      <td>-0.307213</td>\n",
       "    </tr>\n",
       "    <tr>\n",
       "      <th>1</th>\n",
       "      <td>2</td>\n",
       "      <td>10000.0</td>\n",
       "      <td>Chaitra</td>\n",
       "      <td>NaN</td>\n",
       "      <td>2024-04-08</td>\n",
       "      <td>NaN</td>\n",
       "      <td>Esewa - 9851196678</td>\n",
       "      <td>NaN</td>\n",
       "      <td>500</td>\n",
       "      <td>10000.0</td>\n",
       "      <td>-1.160987</td>\n",
       "    </tr>\n",
       "    <tr>\n",
       "      <th>2</th>\n",
       "      <td>3</td>\n",
       "      <td>NaN</td>\n",
       "      <td>Bhaisakh</td>\n",
       "      <td>Jestha</td>\n",
       "      <td>NaT</td>\n",
       "      <td>Nic Asia</td>\n",
       "      <td>NaN</td>\n",
       "      <td>NaN</td>\n",
       "      <td>14000</td>\n",
       "      <td>NaN</td>\n",
       "      <td>0.052270</td>\n",
       "    </tr>\n",
       "    <tr>\n",
       "      <th>3</th>\n",
       "      <td>4</td>\n",
       "      <td>5000.0</td>\n",
       "      <td>NaN</td>\n",
       "      <td>Shrawan</td>\n",
       "      <td>2024-07-22</td>\n",
       "      <td>NaN</td>\n",
       "      <td>Esewa - 9851196678</td>\n",
       "      <td>NaN</td>\n",
       "      <td>5000</td>\n",
       "      <td>5000.0</td>\n",
       "      <td>-0.756568</td>\n",
       "    </tr>\n",
       "    <tr>\n",
       "      <th>4</th>\n",
       "      <td>5</td>\n",
       "      <td>10000.0</td>\n",
       "      <td>Ashadh</td>\n",
       "      <td>Shrawan</td>\n",
       "      <td>2024-07-22</td>\n",
       "      <td>Machhapuchre</td>\n",
       "      <td>NaN</td>\n",
       "      <td>NaN</td>\n",
       "      <td>13000</td>\n",
       "      <td>10000.0</td>\n",
       "      <td>-0.037601</td>\n",
       "    </tr>\n",
       "    <tr>\n",
       "      <th>...</th>\n",
       "      <td>...</td>\n",
       "      <td>...</td>\n",
       "      <td>...</td>\n",
       "      <td>...</td>\n",
       "      <td>...</td>\n",
       "      <td>...</td>\n",
       "      <td>...</td>\n",
       "      <td>...</td>\n",
       "      <td>...</td>\n",
       "      <td>...</td>\n",
       "      <td>...</td>\n",
       "    </tr>\n",
       "    <tr>\n",
       "      <th>112</th>\n",
       "      <td>113</td>\n",
       "      <td>10000.0</td>\n",
       "      <td>Bhaisakh</td>\n",
       "      <td>Jestha</td>\n",
       "      <td>NaT</td>\n",
       "      <td>NaN</td>\n",
       "      <td>NaN</td>\n",
       "      <td>NaN</td>\n",
       "      <td>10000</td>\n",
       "      <td>10000.0</td>\n",
       "      <td>-0.307213</td>\n",
       "    </tr>\n",
       "    <tr>\n",
       "      <th>113</th>\n",
       "      <td>114</td>\n",
       "      <td>5000.0</td>\n",
       "      <td>Jestha</td>\n",
       "      <td>NaN</td>\n",
       "      <td>2024-07-22</td>\n",
       "      <td>Machhapuchre</td>\n",
       "      <td>Esewa - 9851196678</td>\n",
       "      <td>NaN</td>\n",
       "      <td>11253</td>\n",
       "      <td>5000.0</td>\n",
       "      <td>-0.194605</td>\n",
       "    </tr>\n",
       "    <tr>\n",
       "      <th>114</th>\n",
       "      <td>115</td>\n",
       "      <td>13000.0</td>\n",
       "      <td>NaN</td>\n",
       "      <td>Shrawan</td>\n",
       "      <td>NaT</td>\n",
       "      <td>Machhapuchre</td>\n",
       "      <td>NaN</td>\n",
       "      <td>NaN</td>\n",
       "      <td>10000</td>\n",
       "      <td>10000.0</td>\n",
       "      <td>-0.307213</td>\n",
       "    </tr>\n",
       "    <tr>\n",
       "      <th>115</th>\n",
       "      <td>116</td>\n",
       "      <td>NaN</td>\n",
       "      <td>Shrawan</td>\n",
       "      <td>Bhadra</td>\n",
       "      <td>2024-08-23</td>\n",
       "      <td>NaN</td>\n",
       "      <td>Esewa - 9851196678</td>\n",
       "      <td>NaN</td>\n",
       "      <td>12560</td>\n",
       "      <td>NaN</td>\n",
       "      <td>-0.077144</td>\n",
       "    </tr>\n",
       "    <tr>\n",
       "      <th>116</th>\n",
       "      <td>117</td>\n",
       "      <td>10000.0</td>\n",
       "      <td>Bhadra</td>\n",
       "      <td>Asojh</td>\n",
       "      <td>2024-09-24</td>\n",
       "      <td>Nic Asia</td>\n",
       "      <td>Esewa - 9851196678</td>\n",
       "      <td>NaN</td>\n",
       "      <td>10000</td>\n",
       "      <td>10000.0</td>\n",
       "      <td>-0.307213</td>\n",
       "    </tr>\n",
       "  </tbody>\n",
       "</table>\n",
       "<p>117 rows × 11 columns</p>\n",
       "</div>"
      ],
      "text/plain": [
       "      SN   Amount     Month Monthofpayment       Date Modeofpayment  \\\n",
       "0      1  10000.0    Falgun        Chaitra 2024-04-08         Esewa   \n",
       "1      2  10000.0   Chaitra            NaN 2024-04-08           NaN   \n",
       "2      3      NaN  Bhaisakh         Jestha        NaT      Nic Asia   \n",
       "3      4   5000.0       NaN        Shrawan 2024-07-22           NaN   \n",
       "4      5  10000.0    Ashadh        Shrawan 2024-07-22  Machhapuchre   \n",
       "..   ...      ...       ...            ...        ...           ...   \n",
       "112  113  10000.0  Bhaisakh         Jestha        NaT           NaN   \n",
       "113  114   5000.0    Jestha            NaN 2024-07-22  Machhapuchre   \n",
       "114  115  13000.0       NaN        Shrawan        NaT  Machhapuchre   \n",
       "115  116      NaN   Shrawan         Bhadra 2024-08-23           NaN   \n",
       "116  117  10000.0    Bhadra          Asojh 2024-09-24      Nic Asia   \n",
       "\n",
       "              PaymentOn Remarks  Amount1  Amount2   z_score  \n",
       "0    Esewa - 9851196678     NaN    10000  10000.0 -0.307213  \n",
       "1    Esewa - 9851196678     NaN      500  10000.0 -1.160987  \n",
       "2                   NaN     NaN    14000      NaN  0.052270  \n",
       "3    Esewa - 9851196678     NaN     5000   5000.0 -0.756568  \n",
       "4                   NaN     NaN    13000  10000.0 -0.037601  \n",
       "..                  ...     ...      ...      ...       ...  \n",
       "112                 NaN     NaN    10000  10000.0 -0.307213  \n",
       "113  Esewa - 9851196678     NaN    11253   5000.0 -0.194605  \n",
       "114                 NaN     NaN    10000  10000.0 -0.307213  \n",
       "115  Esewa - 9851196678     NaN    12560      NaN -0.077144  \n",
       "116  Esewa - 9851196678     NaN    10000  10000.0 -0.307213  \n",
       "\n",
       "[117 rows x 11 columns]"
      ]
     },
     "execution_count": 38,
     "metadata": {},
     "output_type": "execute_result"
    }
   ],
   "source": [
    "dataset"
   ]
  },
  {
   "cell_type": "code",
   "execution_count": 39,
   "id": "5dce2177-ece0-4c1d-b0ec-4970ac4d415c",
   "metadata": {},
   "outputs": [
    {
     "data": {
      "text/html": [
       "<div>\n",
       "<style scoped>\n",
       "    .dataframe tbody tr th:only-of-type {\n",
       "        vertical-align: middle;\n",
       "    }\n",
       "\n",
       "    .dataframe tbody tr th {\n",
       "        vertical-align: top;\n",
       "    }\n",
       "\n",
       "    .dataframe thead th {\n",
       "        text-align: right;\n",
       "    }\n",
       "</style>\n",
       "<table border=\"1\" class=\"dataframe\">\n",
       "  <thead>\n",
       "    <tr style=\"text-align: right;\">\n",
       "      <th></th>\n",
       "      <th>SN</th>\n",
       "      <th>Amount</th>\n",
       "      <th>Month</th>\n",
       "      <th>Monthofpayment</th>\n",
       "      <th>Date</th>\n",
       "      <th>Modeofpayment</th>\n",
       "      <th>PaymentOn</th>\n",
       "      <th>Remarks</th>\n",
       "      <th>Amount1</th>\n",
       "      <th>Amount2</th>\n",
       "      <th>z_score</th>\n",
       "    </tr>\n",
       "  </thead>\n",
       "  <tbody>\n",
       "    <tr>\n",
       "      <th>0</th>\n",
       "      <td>1</td>\n",
       "      <td>10000.0</td>\n",
       "      <td>Falgun</td>\n",
       "      <td>Chaitra</td>\n",
       "      <td>2024-04-08</td>\n",
       "      <td>Esewa</td>\n",
       "      <td>Esewa - 9851196678</td>\n",
       "      <td>NaN</td>\n",
       "      <td>10000</td>\n",
       "      <td>10000.0</td>\n",
       "      <td>-0.307213</td>\n",
       "    </tr>\n",
       "    <tr>\n",
       "      <th>1</th>\n",
       "      <td>2</td>\n",
       "      <td>10000.0</td>\n",
       "      <td>Chaitra</td>\n",
       "      <td>NaN</td>\n",
       "      <td>2024-04-08</td>\n",
       "      <td>NaN</td>\n",
       "      <td>Esewa - 9851196678</td>\n",
       "      <td>NaN</td>\n",
       "      <td>500</td>\n",
       "      <td>10000.0</td>\n",
       "      <td>-1.160987</td>\n",
       "    </tr>\n",
       "    <tr>\n",
       "      <th>2</th>\n",
       "      <td>3</td>\n",
       "      <td>NaN</td>\n",
       "      <td>Bhaisakh</td>\n",
       "      <td>Jestha</td>\n",
       "      <td>NaT</td>\n",
       "      <td>Nic Asia</td>\n",
       "      <td>NaN</td>\n",
       "      <td>NaN</td>\n",
       "      <td>14000</td>\n",
       "      <td>NaN</td>\n",
       "      <td>0.052270</td>\n",
       "    </tr>\n",
       "    <tr>\n",
       "      <th>3</th>\n",
       "      <td>4</td>\n",
       "      <td>5000.0</td>\n",
       "      <td>NaN</td>\n",
       "      <td>Shrawan</td>\n",
       "      <td>2024-07-22</td>\n",
       "      <td>NaN</td>\n",
       "      <td>Esewa - 9851196678</td>\n",
       "      <td>NaN</td>\n",
       "      <td>5000</td>\n",
       "      <td>5000.0</td>\n",
       "      <td>-0.756568</td>\n",
       "    </tr>\n",
       "    <tr>\n",
       "      <th>4</th>\n",
       "      <td>5</td>\n",
       "      <td>10000.0</td>\n",
       "      <td>Ashadh</td>\n",
       "      <td>Shrawan</td>\n",
       "      <td>2024-07-22</td>\n",
       "      <td>Machhapuchre</td>\n",
       "      <td>NaN</td>\n",
       "      <td>NaN</td>\n",
       "      <td>13000</td>\n",
       "      <td>10000.0</td>\n",
       "      <td>-0.037601</td>\n",
       "    </tr>\n",
       "    <tr>\n",
       "      <th>...</th>\n",
       "      <td>...</td>\n",
       "      <td>...</td>\n",
       "      <td>...</td>\n",
       "      <td>...</td>\n",
       "      <td>...</td>\n",
       "      <td>...</td>\n",
       "      <td>...</td>\n",
       "      <td>...</td>\n",
       "      <td>...</td>\n",
       "      <td>...</td>\n",
       "      <td>...</td>\n",
       "    </tr>\n",
       "    <tr>\n",
       "      <th>112</th>\n",
       "      <td>113</td>\n",
       "      <td>10000.0</td>\n",
       "      <td>Bhaisakh</td>\n",
       "      <td>Jestha</td>\n",
       "      <td>NaT</td>\n",
       "      <td>NaN</td>\n",
       "      <td>NaN</td>\n",
       "      <td>NaN</td>\n",
       "      <td>10000</td>\n",
       "      <td>10000.0</td>\n",
       "      <td>-0.307213</td>\n",
       "    </tr>\n",
       "    <tr>\n",
       "      <th>113</th>\n",
       "      <td>114</td>\n",
       "      <td>5000.0</td>\n",
       "      <td>Jestha</td>\n",
       "      <td>NaN</td>\n",
       "      <td>2024-07-22</td>\n",
       "      <td>Machhapuchre</td>\n",
       "      <td>Esewa - 9851196678</td>\n",
       "      <td>NaN</td>\n",
       "      <td>11253</td>\n",
       "      <td>5000.0</td>\n",
       "      <td>-0.194605</td>\n",
       "    </tr>\n",
       "    <tr>\n",
       "      <th>114</th>\n",
       "      <td>115</td>\n",
       "      <td>13000.0</td>\n",
       "      <td>NaN</td>\n",
       "      <td>Shrawan</td>\n",
       "      <td>NaT</td>\n",
       "      <td>Machhapuchre</td>\n",
       "      <td>NaN</td>\n",
       "      <td>NaN</td>\n",
       "      <td>10000</td>\n",
       "      <td>10000.0</td>\n",
       "      <td>-0.307213</td>\n",
       "    </tr>\n",
       "    <tr>\n",
       "      <th>115</th>\n",
       "      <td>116</td>\n",
       "      <td>NaN</td>\n",
       "      <td>Shrawan</td>\n",
       "      <td>Bhadra</td>\n",
       "      <td>2024-08-23</td>\n",
       "      <td>NaN</td>\n",
       "      <td>Esewa - 9851196678</td>\n",
       "      <td>NaN</td>\n",
       "      <td>12560</td>\n",
       "      <td>NaN</td>\n",
       "      <td>-0.077144</td>\n",
       "    </tr>\n",
       "    <tr>\n",
       "      <th>116</th>\n",
       "      <td>117</td>\n",
       "      <td>10000.0</td>\n",
       "      <td>Bhadra</td>\n",
       "      <td>Asojh</td>\n",
       "      <td>2024-09-24</td>\n",
       "      <td>Nic Asia</td>\n",
       "      <td>Esewa - 9851196678</td>\n",
       "      <td>NaN</td>\n",
       "      <td>10000</td>\n",
       "      <td>10000.0</td>\n",
       "      <td>-0.307213</td>\n",
       "    </tr>\n",
       "  </tbody>\n",
       "</table>\n",
       "<p>113 rows × 11 columns</p>\n",
       "</div>"
      ],
      "text/plain": [
       "      SN   Amount     Month Monthofpayment       Date Modeofpayment  \\\n",
       "0      1  10000.0    Falgun        Chaitra 2024-04-08         Esewa   \n",
       "1      2  10000.0   Chaitra            NaN 2024-04-08           NaN   \n",
       "2      3      NaN  Bhaisakh         Jestha        NaT      Nic Asia   \n",
       "3      4   5000.0       NaN        Shrawan 2024-07-22           NaN   \n",
       "4      5  10000.0    Ashadh        Shrawan 2024-07-22  Machhapuchre   \n",
       "..   ...      ...       ...            ...        ...           ...   \n",
       "112  113  10000.0  Bhaisakh         Jestha        NaT           NaN   \n",
       "113  114   5000.0    Jestha            NaN 2024-07-22  Machhapuchre   \n",
       "114  115  13000.0       NaN        Shrawan        NaT  Machhapuchre   \n",
       "115  116      NaN   Shrawan         Bhadra 2024-08-23           NaN   \n",
       "116  117  10000.0    Bhadra          Asojh 2024-09-24      Nic Asia   \n",
       "\n",
       "              PaymentOn Remarks  Amount1  Amount2   z_score  \n",
       "0    Esewa - 9851196678     NaN    10000  10000.0 -0.307213  \n",
       "1    Esewa - 9851196678     NaN      500  10000.0 -1.160987  \n",
       "2                   NaN     NaN    14000      NaN  0.052270  \n",
       "3    Esewa - 9851196678     NaN     5000   5000.0 -0.756568  \n",
       "4                   NaN     NaN    13000  10000.0 -0.037601  \n",
       "..                  ...     ...      ...      ...       ...  \n",
       "112                 NaN     NaN    10000  10000.0 -0.307213  \n",
       "113  Esewa - 9851196678     NaN    11253   5000.0 -0.194605  \n",
       "114                 NaN     NaN    10000  10000.0 -0.307213  \n",
       "115  Esewa - 9851196678     NaN    12560      NaN -0.077144  \n",
       "116  Esewa - 9851196678     NaN    10000  10000.0 -0.307213  \n",
       "\n",
       "[113 rows x 11 columns]"
      ]
     },
     "execution_count": 39,
     "metadata": {},
     "output_type": "execute_result"
    }
   ],
   "source": [
    "dataset[dataset[\"z_score\"]<3]"
   ]
  },
  {
   "cell_type": "code",
   "execution_count": null,
   "id": "c0cbc581-01ae-45d0-89da-3addfed6e721",
   "metadata": {},
   "outputs": [],
   "source": []
  }
 ],
 "metadata": {
  "kernelspec": {
   "display_name": "Python 3 (ipykernel)",
   "language": "python",
   "name": "python3"
  },
  "language_info": {
   "codemirror_mode": {
    "name": "ipython",
    "version": 3
   },
   "file_extension": ".py",
   "mimetype": "text/x-python",
   "name": "python",
   "nbconvert_exporter": "python",
   "pygments_lexer": "ipython3",
   "version": "3.12.3"
  }
 },
 "nbformat": 4,
 "nbformat_minor": 5
}
