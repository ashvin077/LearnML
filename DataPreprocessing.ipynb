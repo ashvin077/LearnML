{
 "cells": [
  {
   "cell_type": "code",
   "execution_count": 1,
   "id": "4de5c713-cd1a-4807-a1af-3872eda60c69",
   "metadata": {},
   "outputs": [],
   "source": [
    "import numpy as np\n",
    "import pandas as pd\n",
    "import seaborn as sns\n",
    "import matplotlib.pyplot as plt"
   ]
  },
  {
   "cell_type": "code",
   "execution_count": 2,
   "id": "20fdc16f-e0f3-4b65-9a9c-90b283468e7d",
   "metadata": {},
   "outputs": [],
   "source": [
    "dataset = pd.read_excel('Data.xlsx')"
   ]
  },
  {
   "cell_type": "code",
   "execution_count": 3,
   "id": "4fbbbb85-4fe5-428f-9668-08d3f037b078",
   "metadata": {},
   "outputs": [
    {
     "data": {
      "text/html": [
       "<div>\n",
       "<style scoped>\n",
       "    .dataframe tbody tr th:only-of-type {\n",
       "        vertical-align: middle;\n",
       "    }\n",
       "\n",
       "    .dataframe tbody tr th {\n",
       "        vertical-align: top;\n",
       "    }\n",
       "\n",
       "    .dataframe thead th {\n",
       "        text-align: right;\n",
       "    }\n",
       "</style>\n",
       "<table border=\"1\" class=\"dataframe\">\n",
       "  <thead>\n",
       "    <tr style=\"text-align: right;\">\n",
       "      <th></th>\n",
       "      <th>SN</th>\n",
       "      <th>Nic Asia</th>\n",
       "      <th>Esewa</th>\n",
       "      <th>Cash</th>\n",
       "      <th>Expenses</th>\n",
       "      <th>Price</th>\n",
       "      <th>Mode of payment</th>\n",
       "      <th>Date</th>\n",
       "      <th>Nic Asia1</th>\n",
       "      <th>Esewa1</th>\n",
       "      <th>Cash1</th>\n",
       "      <th>Remarks</th>\n",
       "    </tr>\n",
       "  </thead>\n",
       "  <tbody>\n",
       "    <tr>\n",
       "      <th>0</th>\n",
       "      <td>1</td>\n",
       "      <td>6.66</td>\n",
       "      <td>2.22</td>\n",
       "      <td>3010</td>\n",
       "      <td>Cash Loaded</td>\n",
       "      <td>100.0</td>\n",
       "      <td>Cash</td>\n",
       "      <td>2024-07-16</td>\n",
       "      <td>6.66</td>\n",
       "      <td>2.22</td>\n",
       "      <td>3110.0</td>\n",
       "      <td>Loan from Naresh</td>\n",
       "    </tr>\n",
       "    <tr>\n",
       "      <th>1</th>\n",
       "      <td>2</td>\n",
       "      <td>6.66</td>\n",
       "      <td>2.22</td>\n",
       "      <td>3110</td>\n",
       "      <td>NaN</td>\n",
       "      <td>65.0</td>\n",
       "      <td>Cash</td>\n",
       "      <td>NaT</td>\n",
       "      <td>6.66</td>\n",
       "      <td>2.22</td>\n",
       "      <td>3045.0</td>\n",
       "      <td>NaN</td>\n",
       "    </tr>\n",
       "    <tr>\n",
       "      <th>2</th>\n",
       "      <td>3</td>\n",
       "      <td>6.66</td>\n",
       "      <td>2.22</td>\n",
       "      <td>3045</td>\n",
       "      <td>Fare</td>\n",
       "      <td>40.0</td>\n",
       "      <td>Cash</td>\n",
       "      <td>2024-07-16</td>\n",
       "      <td>NaN</td>\n",
       "      <td>2.22</td>\n",
       "      <td>3005.0</td>\n",
       "      <td>NaN</td>\n",
       "    </tr>\n",
       "    <tr>\n",
       "      <th>3</th>\n",
       "      <td>4</td>\n",
       "      <td>0.00</td>\n",
       "      <td>2.22</td>\n",
       "      <td>3005</td>\n",
       "      <td>NaN</td>\n",
       "      <td>125.0</td>\n",
       "      <td>Cash</td>\n",
       "      <td>NaT</td>\n",
       "      <td>120.00</td>\n",
       "      <td>2.22</td>\n",
       "      <td>NaN</td>\n",
       "      <td>NaN</td>\n",
       "    </tr>\n",
       "    <tr>\n",
       "      <th>4</th>\n",
       "      <td>5</td>\n",
       "      <td>120.00</td>\n",
       "      <td>2.22</td>\n",
       "      <td>0</td>\n",
       "      <td>Loan Return to Naresh</td>\n",
       "      <td>100.0</td>\n",
       "      <td>Cash</td>\n",
       "      <td>2024-07-16</td>\n",
       "      <td>120.00</td>\n",
       "      <td>2.22</td>\n",
       "      <td>-100.0</td>\n",
       "      <td>NaN</td>\n",
       "    </tr>\n",
       "    <tr>\n",
       "      <th>5</th>\n",
       "      <td>6</td>\n",
       "      <td>120.00</td>\n",
       "      <td>2.22</td>\n",
       "      <td>-100</td>\n",
       "      <td>Tempo Fare</td>\n",
       "      <td>20.0</td>\n",
       "      <td>Cash</td>\n",
       "      <td>2024-07-16</td>\n",
       "      <td>120.00</td>\n",
       "      <td>2.22</td>\n",
       "      <td>-120.0</td>\n",
       "      <td>NaN</td>\n",
       "    </tr>\n",
       "    <tr>\n",
       "      <th>6</th>\n",
       "      <td>7</td>\n",
       "      <td>120.00</td>\n",
       "      <td>2.22</td>\n",
       "      <td>-120</td>\n",
       "      <td>Calculator</td>\n",
       "      <td>650.0</td>\n",
       "      <td>Cash</td>\n",
       "      <td>2024-07-16</td>\n",
       "      <td>120.00</td>\n",
       "      <td>2.22</td>\n",
       "      <td>-770.0</td>\n",
       "      <td>NaN</td>\n",
       "    </tr>\n",
       "    <tr>\n",
       "      <th>7</th>\n",
       "      <td>8</td>\n",
       "      <td>120.00</td>\n",
       "      <td>2.22</td>\n",
       "      <td>-770</td>\n",
       "      <td>Deposite on Machhapuchhre Bank</td>\n",
       "      <td>NaN</td>\n",
       "      <td>Cash</td>\n",
       "      <td>NaT</td>\n",
       "      <td>120.00</td>\n",
       "      <td>2.22</td>\n",
       "      <td>-770.0</td>\n",
       "      <td>NaN</td>\n",
       "    </tr>\n",
       "    <tr>\n",
       "      <th>8</th>\n",
       "      <td>9</td>\n",
       "      <td>120.00</td>\n",
       "      <td>2.22</td>\n",
       "      <td>-770</td>\n",
       "      <td>Credited</td>\n",
       "      <td>20.0</td>\n",
       "      <td>Nic Asia</td>\n",
       "      <td>2024-07-17</td>\n",
       "      <td>140.00</td>\n",
       "      <td>2.22</td>\n",
       "      <td>-770.0</td>\n",
       "      <td>Interest</td>\n",
       "    </tr>\n",
       "    <tr>\n",
       "      <th>9</th>\n",
       "      <td>10</td>\n",
       "      <td>140.00</td>\n",
       "      <td>2.22</td>\n",
       "      <td>-770</td>\n",
       "      <td>Cash Loaded</td>\n",
       "      <td>30.0</td>\n",
       "      <td>Cash</td>\n",
       "      <td>2024-07-18</td>\n",
       "      <td>140.00</td>\n",
       "      <td>2.22</td>\n",
       "      <td>-740.0</td>\n",
       "      <td>Loan from Naresh</td>\n",
       "    </tr>\n",
       "  </tbody>\n",
       "</table>\n",
       "</div>"
      ],
      "text/plain": [
       "   SN  Nic Asia  Esewa  Cash                        Expenses  Price  \\\n",
       "0   1      6.66   2.22  3010                     Cash Loaded  100.0   \n",
       "1   2      6.66   2.22  3110                             NaN   65.0   \n",
       "2   3      6.66   2.22  3045                            Fare   40.0   \n",
       "3   4      0.00   2.22  3005                             NaN  125.0   \n",
       "4   5    120.00   2.22     0           Loan Return to Naresh  100.0   \n",
       "5   6    120.00   2.22  -100                      Tempo Fare   20.0   \n",
       "6   7    120.00   2.22  -120                      Calculator  650.0   \n",
       "7   8    120.00   2.22  -770  Deposite on Machhapuchhre Bank    NaN   \n",
       "8   9    120.00   2.22  -770                        Credited   20.0   \n",
       "9  10    140.00   2.22  -770                     Cash Loaded   30.0   \n",
       "\n",
       "  Mode of payment       Date  Nic Asia1  Esewa1   Cash1           Remarks  \n",
       "0            Cash 2024-07-16       6.66    2.22  3110.0  Loan from Naresh  \n",
       "1            Cash        NaT       6.66    2.22  3045.0               NaN  \n",
       "2            Cash 2024-07-16        NaN    2.22  3005.0               NaN  \n",
       "3            Cash        NaT     120.00    2.22     NaN               NaN  \n",
       "4            Cash 2024-07-16     120.00    2.22  -100.0               NaN  \n",
       "5            Cash 2024-07-16     120.00    2.22  -120.0               NaN  \n",
       "6            Cash 2024-07-16     120.00    2.22  -770.0               NaN  \n",
       "7            Cash        NaT     120.00    2.22  -770.0               NaN  \n",
       "8        Nic Asia 2024-07-17     140.00    2.22  -770.0          Interest  \n",
       "9            Cash 2024-07-18     140.00    2.22  -740.0  Loan from Naresh  "
      ]
     },
     "execution_count": 3,
     "metadata": {},
     "output_type": "execute_result"
    }
   ],
   "source": [
    "dataset.head(10)"
   ]
  },
  {
   "cell_type": "code",
   "execution_count": 4,
   "id": "fe2d3020-7d73-4266-b761-8c8e69dcf04b",
   "metadata": {},
   "outputs": [
    {
     "data": {
      "text/plain": [
       "(73, 12)"
      ]
     },
     "execution_count": 4,
     "metadata": {},
     "output_type": "execute_result"
    }
   ],
   "source": [
    "dataset.shape"
   ]
  },
  {
   "cell_type": "code",
   "execution_count": 5,
   "id": "3249065e-259e-4a20-87af-be80d2ad04c1",
   "metadata": {},
   "outputs": [
    {
     "data": {
      "text/plain": [
       "SN                  0\n",
       "Nic Asia            0\n",
       "Esewa               0\n",
       "Cash                0\n",
       "Expenses            8\n",
       "Price              11\n",
       "Mode of payment     0\n",
       "Date               12\n",
       "Nic Asia1           3\n",
       "Esewa1              0\n",
       "Cash1               8\n",
       "Remarks            61\n",
       "dtype: int64"
      ]
     },
     "execution_count": 5,
     "metadata": {},
     "output_type": "execute_result"
    }
   ],
   "source": [
    "dataset.isnull().sum()"
   ]
  },
  {
   "cell_type": "code",
   "execution_count": 6,
   "id": "1f3501c5-140d-43f4-a065-74e874d55ea8",
   "metadata": {},
   "outputs": [
    {
     "data": {
      "text/plain": [
       "73"
      ]
     },
     "execution_count": 6,
     "metadata": {},
     "output_type": "execute_result"
    }
   ],
   "source": [
    "dataset.shape[0]"
   ]
  },
  {
   "cell_type": "code",
   "execution_count": 7,
   "id": "830f00ae-09e4-4638-9b74-0dfe20ca2c1e",
   "metadata": {},
   "outputs": [
    {
     "data": {
      "text/plain": [
       "SN                  0.000000\n",
       "Nic Asia            0.000000\n",
       "Esewa               0.000000\n",
       "Cash                0.000000\n",
       "Expenses           10.958904\n",
       "Price              15.068493\n",
       "Mode of payment     0.000000\n",
       "Date               16.438356\n",
       "Nic Asia1           4.109589\n",
       "Esewa1              0.000000\n",
       "Cash1              10.958904\n",
       "Remarks            83.561644\n",
       "dtype: float64"
      ]
     },
     "execution_count": 7,
     "metadata": {},
     "output_type": "execute_result"
    }
   ],
   "source": [
    "(dataset.isnull().sum()/dataset.shape[0])*100"
   ]
  },
  {
   "cell_type": "code",
   "execution_count": 8,
   "id": "bfacfde0-efb0-4987-8136-d93992d15332",
   "metadata": {},
   "outputs": [
    {
     "data": {
      "text/plain": [
       "np.int64(103)"
      ]
     },
     "execution_count": 8,
     "metadata": {},
     "output_type": "execute_result"
    }
   ],
   "source": [
    "dataset.isnull().sum().sum()"
   ]
  },
  {
   "cell_type": "code",
   "execution_count": 9,
   "id": "fdf77cdb-7372-4358-8a32-27bc35de8366",
   "metadata": {},
   "outputs": [
    {
     "data": {
      "text/plain": [
       "np.float64(11.757990867579908)"
      ]
     },
     "execution_count": 9,
     "metadata": {},
     "output_type": "execute_result"
    }
   ],
   "source": [
    "((dataset.isnull().sum().sum())/(dataset.shape[0]*dataset.shape[1]))*100"
   ]
  },
  {
   "cell_type": "code",
   "execution_count": 10,
   "id": "19832a36-619e-4d81-8768-61042087abda",
   "metadata": {},
   "outputs": [
    {
     "data": {
      "image/png": "[encoded data removed]",
      "text/plain": [
       "<Figure size 640x480 with 2 Axes>"
      ]
     },
     "metadata": {},
     "output_type": "display_data"
    }
   ],
   "source": [
    "sns.heatmap(dataset.isnull())\n",
    "plt.show()"
   ]
  },
  {
   "cell_type": "code",
   "execution_count": 11,
   "id": "bd06112a-ddf0-4ed4-8889-0ba3e74e626f",
   "metadata": {},
   "outputs": [
    {
     "data": {
      "text/html": [
       "<div>\n",
       "<style scoped>\n",
       "    .dataframe tbody tr th:only-of-type {\n",
       "        vertical-align: middle;\n",
       "    }\n",
       "\n",
       "    .dataframe tbody tr th {\n",
       "        vertical-align: top;\n",
       "    }\n",
       "\n",
       "    .dataframe thead th {\n",
       "        text-align: right;\n",
       "    }\n",
       "</style>\n",
       "<table border=\"1\" class=\"dataframe\">\n",
       "  <thead>\n",
       "    <tr style=\"text-align: right;\">\n",
       "      <th></th>\n",
       "      <th>SN</th>\n",
       "      <th>Nic Asia</th>\n",
       "      <th>Esewa</th>\n",
       "      <th>Cash</th>\n",
       "      <th>Expenses</th>\n",
       "      <th>Price</th>\n",
       "      <th>Mode of payment</th>\n",
       "      <th>Date</th>\n",
       "      <th>Nic Asia1</th>\n",
       "      <th>Esewa1</th>\n",
       "      <th>Cash1</th>\n",
       "      <th>Remarks</th>\n",
       "    </tr>\n",
       "  </thead>\n",
       "  <tbody>\n",
       "    <tr>\n",
       "      <th>0</th>\n",
       "      <td>1</td>\n",
       "      <td>6.66</td>\n",
       "      <td>2.22</td>\n",
       "      <td>3010</td>\n",
       "      <td>Cash Loaded</td>\n",
       "      <td>100.0</td>\n",
       "      <td>Cash</td>\n",
       "      <td>2024-07-16</td>\n",
       "      <td>6.66</td>\n",
       "      <td>2.22</td>\n",
       "      <td>3110.0</td>\n",
       "      <td>Loan from Naresh</td>\n",
       "    </tr>\n",
       "    <tr>\n",
       "      <th>1</th>\n",
       "      <td>2</td>\n",
       "      <td>6.66</td>\n",
       "      <td>2.22</td>\n",
       "      <td>3110</td>\n",
       "      <td>NaN</td>\n",
       "      <td>65.0</td>\n",
       "      <td>Cash</td>\n",
       "      <td>NaT</td>\n",
       "      <td>6.66</td>\n",
       "      <td>2.22</td>\n",
       "      <td>3045.0</td>\n",
       "      <td>NaN</td>\n",
       "    </tr>\n",
       "    <tr>\n",
       "      <th>2</th>\n",
       "      <td>3</td>\n",
       "      <td>6.66</td>\n",
       "      <td>2.22</td>\n",
       "      <td>3045</td>\n",
       "      <td>Fare</td>\n",
       "      <td>40.0</td>\n",
       "      <td>Cash</td>\n",
       "      <td>2024-07-16</td>\n",
       "      <td>NaN</td>\n",
       "      <td>2.22</td>\n",
       "      <td>3005.0</td>\n",
       "      <td>NaN</td>\n",
       "    </tr>\n",
       "    <tr>\n",
       "      <th>3</th>\n",
       "      <td>4</td>\n",
       "      <td>0.00</td>\n",
       "      <td>2.22</td>\n",
       "      <td>3005</td>\n",
       "      <td>NaN</td>\n",
       "      <td>125.0</td>\n",
       "      <td>Cash</td>\n",
       "      <td>NaT</td>\n",
       "      <td>120.00</td>\n",
       "      <td>2.22</td>\n",
       "      <td>NaN</td>\n",
       "      <td>NaN</td>\n",
       "    </tr>\n",
       "    <tr>\n",
       "      <th>4</th>\n",
       "      <td>5</td>\n",
       "      <td>120.00</td>\n",
       "      <td>2.22</td>\n",
       "      <td>0</td>\n",
       "      <td>Loan Return to Naresh</td>\n",
       "      <td>100.0</td>\n",
       "      <td>Cash</td>\n",
       "      <td>2024-07-16</td>\n",
       "      <td>120.00</td>\n",
       "      <td>2.22</td>\n",
       "      <td>-100.0</td>\n",
       "      <td>NaN</td>\n",
       "    </tr>\n",
       "  </tbody>\n",
       "</table>\n",
       "</div>"
      ],
      "text/plain": [
       "   SN  Nic Asia  Esewa  Cash               Expenses  Price Mode of payment  \\\n",
       "0   1      6.66   2.22  3010            Cash Loaded  100.0            Cash   \n",
       "1   2      6.66   2.22  3110                    NaN   65.0            Cash   \n",
       "2   3      6.66   2.22  3045                   Fare   40.0            Cash   \n",
       "3   4      0.00   2.22  3005                    NaN  125.0            Cash   \n",
       "4   5    120.00   2.22     0  Loan Return to Naresh  100.0            Cash   \n",
       "\n",
       "        Date  Nic Asia1  Esewa1   Cash1           Remarks  \n",
       "0 2024-07-16       6.66    2.22  3110.0  Loan from Naresh  \n",
       "1        NaT       6.66    2.22  3045.0               NaN  \n",
       "2 2024-07-16        NaN    2.22  3005.0               NaN  \n",
       "3        NaT     120.00    2.22     NaN               NaN  \n",
       "4 2024-07-16     120.00    2.22  -100.0               NaN  "
      ]
     },
     "execution_count": 11,
     "metadata": {},
     "output_type": "execute_result"
    }
   ],
   "source": [
    "dataset.head()"
   ]
  },
  {
   "cell_type": "code",
   "execution_count": 12,
   "id": "f294d0f1-56b2-48c5-b2b1-bbd5f4d77845",
   "metadata": {},
   "outputs": [
    {
     "data": {
      "text/plain": [
       "SN                  0\n",
       "Nic Asia            0\n",
       "Esewa               0\n",
       "Cash                0\n",
       "Expenses            8\n",
       "Price              11\n",
       "Mode of payment     0\n",
       "Date               12\n",
       "Nic Asia1           3\n",
       "Esewa1              0\n",
       "Cash1               8\n",
       "Remarks            61\n",
       "dtype: int64"
      ]
     },
     "execution_count": 12,
     "metadata": {},
     "output_type": "execute_result"
    }
   ],
   "source": [
    "dataset.isnull().sum()"
   ]
  },
  {
   "cell_type": "code",
   "execution_count": 13,
   "id": "8ca36ad8-581d-4476-999a-e58202ebebf0",
   "metadata": {},
   "outputs": [
    {
     "data": {
      "text/plain": [
       "'Fare'"
      ]
     },
     "execution_count": 13,
     "metadata": {},
     "output_type": "execute_result"
    }
   ],
   "source": [
    "dataset['Expenses'].mode()[0]"
   ]
  },
  {
   "cell_type": "code",
   "execution_count": 14,
   "id": "8f43db57-9c18-43e1-aa43-e6259e815301",
   "metadata": {},
   "outputs": [
    {
     "data": {
      "text/plain": [
       "0               Cash Loaded\n",
       "1                      Fare\n",
       "2                      Fare\n",
       "3                      Fare\n",
       "4     Loan Return to Naresh\n",
       "              ...          \n",
       "68                     Fare\n",
       "69                     Fare\n",
       "70                     Fare\n",
       "71                   Frooti\n",
       "72          Samosa, Pakauda\n",
       "Name: Expenses, Length: 73, dtype: object"
      ]
     },
     "execution_count": 14,
     "metadata": {},
     "output_type": "execute_result"
    }
   ],
   "source": [
    "dataset['Expenses'].fillna(dataset['Expenses'].mode()[0])"
   ]
  },
  {
   "cell_type": "code",
   "execution_count": 18,
   "id": "1a1928d4-be97-482f-a7a7-e5654b81c142",
   "metadata": {},
   "outputs": [
    {
     "name": "stderr",
     "output_type": "stream",
     "text": [
      "C:\\Users\\ashvi\\AppData\\Local\\Temp\\ipykernel_21328\\2262683910.py:2: FutureWarning: A value is trying to be set on a copy of a DataFrame or Series through chained assignment using an inplace method.\n",
      "The behavior will change in pandas 3.0. This inplace method will never work because the intermediate object on which we are setting values always behaves as a copy.\n",
      "\n",
      "For example, when doing 'df[col].method(value, inplace=True)', try using 'df.method({col: value}, inplace=True)' or df[col] = df[col].method(value) instead, to perform the operation inplace on the original object.\n",
      "\n",
      "\n",
      "  dataset[i].fillna(dataset[i].mode()[0],inplace=True)\n"
     ]
    }
   ],
   "source": [
    "for i in dataset.select_dtypes(include=\"object\").columns:\n",
    "    dataset[i].fillna(dataset[i].mode()[0],inplace=True)"
   ]
  },
  {
   "cell_type": "code",
   "execution_count": 19,
   "id": "f01961d5-4af2-400f-9df4-e93904a51020",
   "metadata": {},
   "outputs": [
    {
     "data": {
      "text/plain": [
       "SN                  0\n",
       "Nic Asia            0\n",
       "Esewa               0\n",
       "Cash                0\n",
       "Expenses            0\n",
       "Price              11\n",
       "Mode of payment     0\n",
       "Date               12\n",
       "Nic Asia1           3\n",
       "Esewa1              0\n",
       "Cash1               8\n",
       "Remarks             0\n",
       "dtype: int64"
      ]
     },
     "execution_count": 19,
     "metadata": {},
     "output_type": "execute_result"
    }
   ],
   "source": [
    "dataset.isnull().sum()"
   ]
  },
  {
   "cell_type": "code",
   "execution_count": null,
   "id": "3ba05766-8dae-4212-9e8e-b6744efc8946",
   "metadata": {},
   "outputs": [],
   "source": []
  }
 ],
 "metadata": {
  "kernelspec": {
   "display_name": "Python 3 (ipykernel)",
   "language": "python",
   "name": "python3"
  },
  "language_info": {
   "codemirror_mode": {
    "name": "ipython",
    "version": 3
   },
   "file_extension": ".py",
   "mimetype": "text/x-python",
   "name": "python",
   "nbconvert_exporter": "python",
   "pygments_lexer": "ipython3",
   "version": "3.12.3"
  }
 },
 "nbformat": 4,
 "nbformat_minor": 5
}
